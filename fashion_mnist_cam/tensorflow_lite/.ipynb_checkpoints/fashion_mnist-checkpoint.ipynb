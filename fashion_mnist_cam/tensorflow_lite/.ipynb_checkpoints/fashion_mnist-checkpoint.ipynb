{
 "cells": [
  {
   "cell_type": "code",
   "execution_count": null,
   "id": "c341a1d1",
   "metadata": {},
   "outputs": [],
   "source": [
    "# From https://www.survivingwithandroid.com/tensorflow-lite-micro-esp32-cam-fashion-mnist-platformio/"
   ]
  },
  {
   "cell_type": "code",
   "execution_count": 1,
   "id": "0e1d0286",
   "metadata": {},
   "outputs": [
    {
     "name": "stdout",
     "output_type": "stream",
     "text": [
      "2.3.0\n"
     ]
    }
   ],
   "source": [
    "import tensorflow as tf\n",
    "import numpy as np\n",
    "\n",
    "print(tf.__version__)"
   ]
  },
  {
   "cell_type": "code",
   "execution_count": 2,
   "id": "7440154f",
   "metadata": {},
   "outputs": [
    {
     "name": "stdout",
     "output_type": "stream",
     "text": [
      "Downloading data from https://storage.googleapis.com/tensorflow/tf-keras-datasets/train-labels-idx1-ubyte.gz\n",
      "32768/29515 [=================================] - 0s 0us/step\n",
      "Downloading data from https://storage.googleapis.com/tensorflow/tf-keras-datasets/train-images-idx3-ubyte.gz\n",
      "26427392/26421880 [==============================] - 217s 8us/step\n",
      "Downloading data from https://storage.googleapis.com/tensorflow/tf-keras-datasets/t10k-labels-idx1-ubyte.gz\n",
      "8192/5148 [===============================================] - 0s 20us/step\n",
      "Downloading data from https://storage.googleapis.com/tensorflow/tf-keras-datasets/t10k-images-idx3-ubyte.gz\n",
      "4423680/4422102 [==============================] - 49s 11us/step\n"
     ]
    }
   ],
   "source": [
    "fashion_mnist = tf.keras.datasets.fashion_mnist\n",
    "\n",
    "(train_images, train_labels), (test_images, test_labels) = fashion_mnist.load_data()\n",
    "\n",
    "# Normalize the data\n",
    "train_images = train_images.astype(np.float32) / 255\n",
    "test_images = test_images.astype(np.float32) / 255\n",
    "train_images = np.expand_dims(train_images, -1)\n",
    "test_images = np.expand_dims(test_images, -1)"
   ]
  },
  {
   "cell_type": "code",
   "execution_count": 4,
   "id": "ea2f70a8",
   "metadata": {},
   "outputs": [
    {
     "name": "stdout",
     "output_type": "stream",
     "text": [
      "Model: \"sequential\"\n",
      "_________________________________________________________________\n",
      "Layer (type)                 Output Shape              Param #   \n",
      "=================================================================\n",
      "conv2d_2 (Conv2D)            (None, 26, 26, 6)         60        \n",
      "_________________________________________________________________\n",
      "max_pooling2d_1 (MaxPooling2 (None, 13, 13, 6)         0         \n",
      "_________________________________________________________________\n",
      "conv2d_3 (Conv2D)            (None, 11, 11, 6)         330       \n",
      "_________________________________________________________________\n",
      "flatten_1 (Flatten)          (None, 726)               0         \n",
      "_________________________________________________________________\n",
      "dense (Dense)                (None, 10)                7270      \n",
      "=================================================================\n",
      "Total params: 7,660\n",
      "Trainable params: 7,660\n",
      "Non-trainable params: 0\n",
      "_________________________________________________________________\n",
      "Epoch 1/20\n",
      "1500/1500 [==============================] - 20s 13ms/step - loss: 1.7630 - accuracy: 0.7079 - val_loss: 1.6772 - val_accuracy: 0.7862\n",
      "Epoch 2/20\n",
      "1500/1500 [==============================] - 15s 10ms/step - loss: 1.6480 - accuracy: 0.8156 - val_loss: 1.6281 - val_accuracy: 0.8343\n",
      "Epoch 3/20\n",
      "1500/1500 [==============================] - 16s 10ms/step - loss: 1.6212 - accuracy: 0.8422 - val_loss: 1.6141 - val_accuracy: 0.8494\n",
      "Epoch 4/20\n",
      "1500/1500 [==============================] - 23s 16ms/step - loss: 1.6106 - accuracy: 0.8532 - val_loss: 1.6136 - val_accuracy: 0.8487\n",
      "Epoch 5/20\n",
      "1500/1500 [==============================] - 19s 13ms/step - loss: 1.6032 - accuracy: 0.8600 - val_loss: 1.6229 - val_accuracy: 0.8394\n",
      "Epoch 6/20\n",
      "1500/1500 [==============================] - 15s 10ms/step - loss: 1.5977 - accuracy: 0.8650 - val_loss: 1.6016 - val_accuracy: 0.8616\n",
      "Epoch 7/20\n",
      "1500/1500 [==============================] - 18s 12ms/step - loss: 1.5929 - accuracy: 0.8692 - val_loss: 1.5942 - val_accuracy: 0.8683\n",
      "Epoch 8/20\n",
      "1500/1500 [==============================] - 14s 9ms/step - loss: 1.5894 - accuracy: 0.8730 - val_loss: 1.5958 - val_accuracy: 0.8660\n",
      "Epoch 9/20\n",
      "1500/1500 [==============================] - 14s 9ms/step - loss: 1.5866 - accuracy: 0.8762 - val_loss: 1.5884 - val_accuracy: 0.8733\n",
      "Epoch 10/20\n",
      "1500/1500 [==============================] - 14s 9ms/step - loss: 1.5833 - accuracy: 0.8791 - val_loss: 1.5888 - val_accuracy: 0.8718\n",
      "Epoch 11/20\n",
      "1500/1500 [==============================] - 14s 10ms/step - loss: 1.5825 - accuracy: 0.8792 - val_loss: 1.5924 - val_accuracy: 0.8694\n",
      "Epoch 12/20\n",
      "1500/1500 [==============================] - 14s 10ms/step - loss: 1.5801 - accuracy: 0.8816 - val_loss: 1.5935 - val_accuracy: 0.8677\n",
      "Epoch 13/20\n",
      "1500/1500 [==============================] - 16s 11ms/step - loss: 1.5773 - accuracy: 0.8851 - val_loss: 1.5886 - val_accuracy: 0.8721\n",
      "Epoch 14/20\n",
      "1500/1500 [==============================] - 14s 10ms/step - loss: 1.5764 - accuracy: 0.8854 - val_loss: 1.5870 - val_accuracy: 0.8743\n",
      "Epoch 15/20\n",
      "1500/1500 [==============================] - 14s 9ms/step - loss: 1.5754 - accuracy: 0.8864 - val_loss: 1.5881 - val_accuracy: 0.8723\n",
      "Epoch 16/20\n",
      "1500/1500 [==============================] - 15s 10ms/step - loss: 1.5731 - accuracy: 0.8886 - val_loss: 1.5858 - val_accuracy: 0.8762\n",
      "Epoch 17/20\n",
      "1500/1500 [==============================] - 14s 9ms/step - loss: 1.5727 - accuracy: 0.8891 - val_loss: 1.5839 - val_accuracy: 0.8772\n",
      "Epoch 18/20\n",
      "1500/1500 [==============================] - 14s 9ms/step - loss: 1.5705 - accuracy: 0.8912 - val_loss: 1.5914 - val_accuracy: 0.8692\n",
      "Epoch 19/20\n",
      "1500/1500 [==============================] - 14s 9ms/step - loss: 1.5699 - accuracy: 0.8915 - val_loss: 1.5872 - val_accuracy: 0.8737\n",
      "Epoch 20/20\n",
      "1500/1500 [==============================] - 15s 10ms/step - loss: 1.5689 - accuracy: 0.8930 - val_loss: 1.5870 - val_accuracy: 0.8736\n"
     ]
    },
    {
     "data": {
      "text/plain": [
       "<tensorflow.python.keras.callbacks.History at 0x13830a32b08>"
      ]
     },
     "execution_count": 4,
     "metadata": {},
     "output_type": "execute_result"
    }
   ],
   "source": [
    "from tensorflow.keras import layers\n",
    "\n",
    "input_shape = (28, 28, 1)\n",
    "num_classes=10\n",
    "\n",
    "model = tf.keras.Sequential(\n",
    "    [\n",
    "        tf.keras.Input(shape=input_shape),\n",
    "        layers.Conv2D(6, kernel_size=(3, 3), activation=\"relu\"),\n",
    "        layers.MaxPooling2D(pool_size=(2, 2)),\n",
    "        layers.Conv2D(6, kernel_size=(3, 3), activation=\"relu\"),\n",
    "        layers.Flatten(),\n",
    "        layers.Dense(num_classes, activation=\"softmax\"),\n",
    "    ]\n",
    ")\n",
    "\n",
    "model.summary()\n",
    "\n",
    "model.compile(optimizer='adam',\n",
    "              loss=tf.keras.losses.SparseCategoricalCrossentropy(from_logits=True),\n",
    "              metrics=['accuracy'])\n",
    "\n",
    "model.fit(train_images, train_labels, epochs=20, validation_split=0.2)"
   ]
  },
  {
   "cell_type": "code",
   "execution_count": 17,
   "id": "a33f59cd",
   "metadata": {},
   "outputs": [
    {
     "name": "stdout",
     "output_type": "stream",
     "text": [
      "WARNING:tensorflow:From C:\\Users\\phil\\Anaconda3\\envs\\esp32\\lib\\site-packages\\tensorflow\\python\\training\\tracking\\tracking.py:111: Model.state_updates (from tensorflow.python.keras.engine.training) is deprecated and will be removed in a future version.\n",
      "Instructions for updating:\n",
      "This property should not be used in TensorFlow 2.0, as updates are applied automatically.\n",
      "WARNING:tensorflow:From C:\\Users\\phil\\Anaconda3\\envs\\esp32\\lib\\site-packages\\tensorflow\\python\\training\\tracking\\tracking.py:111: Layer.updates (from tensorflow.python.keras.engine.base_layer) is deprecated and will be removed in a future version.\n",
      "Instructions for updating:\n",
      "This property should not be used in TensorFlow 2.0, as updates are applied automatically.\n",
      "INFO:tensorflow:Assets written to: my_model\\assets\n"
     ]
    }
   ],
   "source": [
    "model.save(\"my_model\")"
   ]
  },
  {
   "cell_type": "code",
   "execution_count": 19,
   "id": "5bbd4948",
   "metadata": {},
   "outputs": [
    {
     "data": {
      "text/plain": [
       "['.ipynb_checkpoints', 'fashion_mnist.ipynb', 'my_model']"
      ]
     },
     "execution_count": 19,
     "metadata": {},
     "output_type": "execute_result"
    }
   ],
   "source": [
    "import os\n",
    "os.listdir('.')\n",
    "#os.getcwd()"
   ]
  },
  {
   "cell_type": "code",
   "execution_count": 20,
   "id": "8d429089",
   "metadata": {},
   "outputs": [
    {
     "name": "stdout",
     "output_type": "stream",
     "text": [
      "Quantized model is 12160 bytes\n"
     ]
    }
   ],
   "source": [
    "def representative_data_gen():\n",
    "  for input_value in tf.data.Dataset.from_tensor_slices(train_images).batch(1).take(100):\n",
    "    yield [input_value]\n",
    "\n",
    "\n",
    "converter = tf.lite.TFLiteConverter.from_saved_model(\"./my_model\")\n",
    "converter.optimizations = [tf.lite.Optimize.DEFAULT]\n",
    "\n",
    "converter.representative_dataset = representative_data_gen\n",
    "tflite_model = converter.convert()\n",
    "tflite_model_size = open('./mnist_model.tflite', \"wb\").write(tflite_model)\n",
    "print(\"Quantized model is %d bytes\" % tflite_model_size)"
   ]
  },
  {
   "cell_type": "code",
   "execution_count": 21,
   "id": "43abda05",
   "metadata": {},
   "outputs": [
    {
     "data": {
      "text/plain": [
       "['.ipynb_checkpoints', 'fashion_mnist.ipynb', 'mnist_model.tflite', 'my_model']"
      ]
     },
     "execution_count": 21,
     "metadata": {},
     "output_type": "execute_result"
    }
   ],
   "source": [
    "os.listdir(\".\")"
   ]
  },
  {
   "cell_type": "code",
   "execution_count": 23,
   "id": "19781184",
   "metadata": {},
   "outputs": [],
   "source": [
    "# Do this in ubuntu\n",
    "# xxd -i \"./mnist_model.tflite\" > \"./mnist_model_quant.cc\""
   ]
  },
  {
   "cell_type": "code",
   "execution_count": null,
   "id": "627352eb",
   "metadata": {},
   "outputs": [],
   "source": []
  }
 ],
 "metadata": {
  "kernelspec": {
   "display_name": "Python 3 (ipykernel)",
   "language": "python",
   "name": "python3"
  },
  "language_info": {
   "codemirror_mode": {
    "name": "ipython",
    "version": 3
   },
   "file_extension": ".py",
   "mimetype": "text/x-python",
   "name": "python",
   "nbconvert_exporter": "python",
   "pygments_lexer": "ipython3",
   "version": "3.7.11"
  }
 },
 "nbformat": 4,
 "nbformat_minor": 5
}
